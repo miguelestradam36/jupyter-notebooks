{
 "cells": [
  {
   "cell_type": "code",
   "execution_count": 36,
   "metadata": {},
   "outputs": [],
   "source": [
    "\n",
    "\"\"\"\n",
    "############################################################################\n",
    "## Run this jupyter after running app/main.py\n",
    "############################################################################\n",
    "\"\"\"\n",
    "import os\n",
    "import pandas\n",
    "import sqlite3\n",
    "\n",
    "#Connect to recently created DB\n",
    "connection = sqlite3.connect('data/CarSalesData.db')\n",
    "cursor = connection.cursor()"
   ]
  },
  {
   "cell_type": "code",
   "execution_count": 39,
   "metadata": {},
   "outputs": [
    {
     "name": "stdout",
     "output_type": "stream",
     "text": [
      "Exercise 1\n",
      "Create a query that returns the top 3 car brands most sold (i.e., having the most car brand sales) during first\n",
      "        and third quarter of year 2015.\n",
      "\n",
      "\n",
      "There were no sales on 2015\n",
      "\n"
     ]
    }
   ],
   "source": [
    "print(\"\"\"Create a query that returns the top 3 car brands most sold (i.e., having the most car brand sales) during first\n",
    "        and third quarter of year 2015.\"\"\")\n",
    "with open('sql/example_1.sql', 'r') as sql_file:\n",
    "    script = sql_file.read()\n",
    "\n",
    "cursor.execute(script)\n",
    "print('\\n')\n",
    "for entry in cursor.fetchall():\n",
    "    print(entry)\n",
    "\n",
    "print('There were no sales on 2015\\n')"
   ]
  },
  {
   "cell_type": "code",
   "execution_count": 41,
   "metadata": {},
   "outputs": [
    {
     "name": "stdout",
     "output_type": "stream",
     "text": [
      "Exercise 2\n",
      "Create a query that shows the top 3 most sold car colors (i.e., having the most car color sales) \n",
      "        for each quarter for the years 2012,2013,2014,2015.\n",
      "\n",
      "\n",
      "('Quarter 1 2012', 'Red', 83)\n",
      "('Quarter 1 2012', 'Canary Yellow', 73)\n",
      "('Quarter 1 2012', 'Blue', 60)\n",
      "('Quarter 1 2012', 'Silver', 56)\n",
      "('Quarter 1 2012', 'Green', 41)\n",
      "('Quarter 1 2012', 'Black', 40)\n",
      "('Quarter 1 2012', 'British Racing Green', 40)\n",
      "('Quarter 1 2012', 'Dark Purple', 36)\n",
      "('Quarter 1 2012', 'Night Blue', 32)\n",
      "\n",
      "There are sales only on the First Quarter of the year 2012\n",
      "\n"
     ]
    }
   ],
   "source": [
    "print(\"\"\"Create a query that shows the top 3 most sold car colors (i.e., having the most car color sales) \n",
    "        for each quarter for the years 2012,2013,2014,2015.\"\"\")\n",
    "\n",
    "with open('sql/example_2.sql', 'r') as sql_file:\n",
    "    script = sql_file.read()\n",
    "\n",
    "cursor.execute(script)\n",
    "print('\\n')\n",
    "for entry in cursor.fetchall():\n",
    "    print(entry)\n",
    "\n",
    "print('\\nThere are sales only on the First Quarter of the year 2012\\n')"
   ]
  }
 ],
 "metadata": {
  "kernelspec": {
   "display_name": "Python 3.10.1 64-bit",
   "language": "python",
   "name": "python3"
  },
  "language_info": {
   "codemirror_mode": {
    "name": "ipython",
    "version": 3
   },
   "file_extension": ".py",
   "mimetype": "text/x-python",
   "name": "python",
   "nbconvert_exporter": "python",
   "pygments_lexer": "ipython3",
   "version": "3.10.1"
  },
  "orig_nbformat": 4,
  "vscode": {
   "interpreter": {
    "hash": "e8a00227fbbeabfee3e4c7eae78ea7efab3aaaa5b33f3ff28071daefabaeab66"
   }
  }
 },
 "nbformat": 4,
 "nbformat_minor": 2
}
